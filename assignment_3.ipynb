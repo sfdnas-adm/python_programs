{
 "cells": [
  {
   "cell_type": "markdown",
   "id": "29cd36ba",
   "metadata": {},
   "source": [
    "1.1 Write a Python Program to implement your own myreduce() function which works exactly like Python's built-in function reduce()"
   ]
  },
  {
   "cell_type": "code",
   "execution_count": 1,
   "id": "00df51ce",
   "metadata": {},
   "outputs": [],
   "source": [
    "# my reduce function\n",
    "def my_reduce(c,l):\n",
    "    \"\"\"takes a function and an iterable as an argument and gives the function 2 arguments and returns result\"\"\"\n",
    "    for i in range(len(l)-1):\n",
    "        if(i == 0):\n",
    "            res = c(l[i],l[i+1])\n",
    "        else:\n",
    "            res = c(res,l[i+1])\n",
    "    return res"
   ]
  },
  {
   "cell_type": "code",
   "execution_count": 2,
   "id": "1ee6c1a5",
   "metadata": {},
   "outputs": [
    {
     "data": {
      "text/plain": [
       "45"
      ]
     },
     "execution_count": 2,
     "metadata": {},
     "output_type": "execute_result"
    }
   ],
   "source": [
    "from functools import reduce\n",
    "def new_fun(a,b):\n",
    "        return a+b\n",
    "l= [1,2,3,4,5,9,8,7,6]\n",
    "\n",
    "my_reduce(new_fun,l)\n",
    "reduce(new_fun,l)"
   ]
  },
  {
   "cell_type": "markdown",
   "id": "ecf3027b",
   "metadata": {},
   "source": [
    "Write a Python program to implement your own myfilter() function which works exactly like Python's built-in function filter()"
   ]
  },
  {
   "cell_type": "code",
   "execution_count": 3,
   "id": "629d7fb9",
   "metadata": {},
   "outputs": [],
   "source": [
    "# filter function\n",
    "\n",
    "def my_filter(c,l):\n",
    "    \"\"\"takes a function and iterable as an argument and returns the list with true values of the iterable\"\"\"\n",
    "    \n",
    "    for i in range(len(l)):\n",
    "        if c(l[i]) == True:\n",
    "            yield l[i]"
   ]
  },
  {
   "cell_type": "markdown",
   "id": "edd9afa3",
   "metadata": {},
   "source": [
    "2. Implement List comprehensions to produce the following lists.\n",
    "Write List comprehensions to produce the following Lists "
   ]
  },
  {
   "cell_type": "markdown",
   "id": "43c86cf0",
   "metadata": {},
   "source": [
    "['x', 'xx', 'xxx', 'xxxx', 'y', 'yy', 'yyy', 'yyyy', 'z', 'zz', 'zzz', 'zzzz']  ['x', 'y', 'z', 'xx', 'yy', 'zz', 'xxx', 'yyy', 'zzz', 'xxxx', 'yyyy', 'zzzz']  [[2], [3], [4], [3], [4], [5], [4], [5], [6]] [[2, 3, 4, 5], [3, 4, 5, 6],\n",
    "[4, 5, 6, 7], [5, 6, 7, 8]]  [(1, 1), (2, 1), (3, 1), (1, 2), (2, 2), (3, 2), (1, 3), (2, 3), (3, 3)]"
   ]
  },
  {
   "cell_type": "code",
   "execution_count": 4,
   "id": "722b5979",
   "metadata": {},
   "outputs": [
    {
     "data": {
      "text/plain": [
       "['x', 'xx', 'xxx', 'xxxx', 'y', 'yy', 'yyy', 'yyyy', 'z', 'zz', 'zzz', 'zzzz']"
      ]
     },
     "execution_count": 4,
     "metadata": {},
     "output_type": "execute_result"
    }
   ],
   "source": [
    "#['x', 'xx', 'xxx', 'xxxx', 'y', 'yy', 'yyy', 'yyyy', 'z', 'zz', 'zzz', 'zzzz'] \n",
    "[i*j for i in 'xyz' for j in range(1,5)]"
   ]
  },
  {
   "cell_type": "code",
   "execution_count": 5,
   "id": "c24b6d30",
   "metadata": {},
   "outputs": [
    {
     "data": {
      "text/plain": [
       "['x', 'y', 'z', 'xx', 'yy', 'zz', 'xxx', 'yyy', 'zzz', 'xxxx', 'yyyy', 'zzzz']"
      ]
     },
     "execution_count": 5,
     "metadata": {},
     "output_type": "execute_result"
    }
   ],
   "source": [
    "['x', 'y', 'z', 'xx', 'yy', 'zz', 'xxx', 'yyy', 'zzz', 'xxxx', 'yyyy', 'zzzz'] \n",
    "[i*j for i in range(1,5) for j in 'xyz']"
   ]
  },
  {
   "cell_type": "code",
   "execution_count": 6,
   "id": "1c437ad1",
   "metadata": {},
   "outputs": [
    {
     "data": {
      "text/plain": [
       "[[2], [3], [4], [3], [4], [5], [4], [5], [6]]"
      ]
     },
     "execution_count": 6,
     "metadata": {},
     "output_type": "execute_result"
    }
   ],
   "source": [
    "# [[2], [3], [4], [3], [4], [5], [4], [5], [6]]\n",
    "[[i+j] for j in range(0,3) for i in [2,3,4]]\n"
   ]
  },
  {
   "cell_type": "code",
   "execution_count": 7,
   "id": "d94d80e7",
   "metadata": {},
   "outputs": [
    {
     "data": {
      "text/plain": [
       "[[2],\n",
       " [3],\n",
       " [4],\n",
       " [5],\n",
       " [3],\n",
       " [4],\n",
       " [5],\n",
       " [6],\n",
       " [4],\n",
       " [5],\n",
       " [6],\n",
       " [7],\n",
       " [5],\n",
       " [6],\n",
       " [7],\n",
       " [8]]"
      ]
     },
     "execution_count": 7,
     "metadata": {},
     "output_type": "execute_result"
    }
   ],
   "source": [
    "# [[2, 3, 4, 5], [3, 4, 5, 6], [4, 5, 6, 7], [5, 6, 7, 8]]\n",
    "[[i+j] for j in range(0,4) for i in [2,3,4,5]]"
   ]
  },
  {
   "cell_type": "code",
   "execution_count": 8,
   "id": "4210f83f",
   "metadata": {},
   "outputs": [
    {
     "data": {
      "text/plain": [
       "[(1, 1), (1, 2), (1, 3), (2, 1), (2, 2), (2, 3), (3, 1), (3, 2), (3, 3)]"
      ]
     },
     "execution_count": 8,
     "metadata": {},
     "output_type": "execute_result"
    }
   ],
   "source": [
    "# [(1, 1), (2, 1), (3, 1), (1, 2), (2, 2), (3, 2), (1, 3), (2, 3), (3, 3)]\n",
    "[(i,j) for i in range(1,4) for j in range(1,4)]"
   ]
  },
  {
   "cell_type": "code",
   "execution_count": null,
   "id": "15f0e19c",
   "metadata": {},
   "outputs": [],
   "source": []
  }
 ],
 "metadata": {
  "kernelspec": {
   "display_name": "Python 3 (ipykernel)",
   "language": "python",
   "name": "python3"
  },
  "language_info": {
   "codemirror_mode": {
    "name": "ipython",
    "version": 3
   },
   "file_extension": ".py",
   "mimetype": "text/x-python",
   "name": "python",
   "nbconvert_exporter": "python",
   "pygments_lexer": "ipython3",
   "version": "3.9.7"
  }
 },
 "nbformat": 4,
 "nbformat_minor": 5
}
