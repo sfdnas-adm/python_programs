{
 "cells": [
  {
   "cell_type": "code",
   "execution_count": 2,
   "id": "821d9ee2",
   "metadata": {},
   "outputs": [
    {
     "name": "stdout",
     "output_type": "stream",
     "text": [
      "a = 6\n",
      "b = 7\n",
      "c = 8\n",
      "area : 20.33316256758894\n"
     ]
    }
   ],
   "source": [
    "#Write a Python Program(with class concepts) to find the area of the triangle using the below formula.\n",
    "#area = (s*(s-a)(s-b)(s-c)) ** 0.5\n",
    "#Function to take the length of the sides of triangle from user should be defined in the parent\n",
    "#class and function to calculate the area should be defined in subclass.\n",
    "class maintri:\n",
    "    def __init__(self, a, b, c):\n",
    "        self.a = float(a)\n",
    "        self.b = float(b)\n",
    "        self.c = float(c)\n",
    "        self.area = 0\n",
    "\n",
    "class triangle(maintri):\n",
    "    def __init__(self, a, b, c):\n",
    "        maintri.__init__(self, a, b, c)\n",
    "\n",
    "    def calculate_area(self):\n",
    "        s = (self.a + self.b + self.c) / 2\n",
    "        self.area = float((s * (s - self.a) * (s - self.b) * (s - self.c))) ** 0.5\n",
    "\n",
    "    def get_area(self):\n",
    "        return self.area     \n",
    "\n",
    "a, b, c = input(\"a = \"), input(\"b = \"), input(\"c = \")\n",
    "\n",
    "t = triangle(a, b, c)\n",
    "t.calculate_area()\n",
    "print(\"area : {}\".format(t.get_area()))"
   ]
  },
  {
   "cell_type": "code",
   "execution_count": 3,
   "id": "4e27e2e7",
   "metadata": {},
   "outputs": [],
   "source": [
    "#Write a function filter_long_words() that takes a list of words and an integer n and returns the list of words that are longer than n.\n",
    "\n",
    "def filter_long_words(string, n):\n",
    "    return [word for word in string if len(word)>n]\n",
    "     "
   ]
  },
  {
   "cell_type": "code",
   "execution_count": null,
   "id": "53fa04bd",
   "metadata": {},
   "outputs": [],
   "source": [
    "string = []\n",
    "stri = input(\"enter list of words\")\n",
    "n = int(input(\"enter length\"))\n",
    "string = stri.split(' ')\n",
    "filter_long_words(string, n)"
   ]
  },
  {
   "cell_type": "code",
   "execution_count": null,
   "id": "a6614a59",
   "metadata": {},
   "outputs": [],
   "source": [
    "#Write a Python program using function concept that maps list of words into a list of integers representing the lengths of the corresponding words.\n",
    "\n",
    "def return_len_of_words(string):\n",
    "    for word in string:\n",
    "        yield len(word)"
   ]
  },
  {
   "cell_type": "code",
   "execution_count": null,
   "id": "d4b66086",
   "metadata": {},
   "outputs": [],
   "source": [
    "string = []\n",
    "stri = input(\"enter list of words\")\n",
    "string = stri.split(' ')\n",
    "s = return_len_of_words(string)\n",
    "for w in s:\n",
    "    print(w)"
   ]
  },
  {
   "cell_type": "code",
   "execution_count": 7,
   "id": "91661021",
   "metadata": {},
   "outputs": [],
   "source": [
    "#Write a Python function which takes a character (i.e. a string of length 1) and returns True if it is a vowel, False otherwise.\n",
    "\n",
    "def vowel(s):\n",
    "    if s in ('a','e','i','o','u','A','E', 'I', 'O', 'U'):\n",
    "        return True\n",
    "    else:\n",
    "        return False"
   ]
  },
  {
   "cell_type": "code",
   "execution_count": 8,
   "id": "c634185b",
   "metadata": {},
   "outputs": [
    {
     "name": "stdout",
     "output_type": "stream",
     "text": [
      "enter a characterZ\n"
     ]
    },
    {
     "data": {
      "text/plain": [
       "False"
      ]
     },
     "execution_count": 8,
     "metadata": {},
     "output_type": "execute_result"
    }
   ],
   "source": [
    "s = input('enter a character')\n",
    "vowel(s)"
   ]
  },
  {
   "cell_type": "code",
   "execution_count": null,
   "id": "9f0e4937",
   "metadata": {},
   "outputs": [],
   "source": []
  }
 ],
 "metadata": {
  "kernelspec": {
   "display_name": "Python 3 (ipykernel)",
   "language": "python",
   "name": "python3"
  },
  "language_info": {
   "codemirror_mode": {
    "name": "ipython",
    "version": 3
   },
   "file_extension": ".py",
   "mimetype": "text/x-python",
   "name": "python",
   "nbconvert_exporter": "python",
   "pygments_lexer": "ipython3",
   "version": "3.9.7"
  }
 },
 "nbformat": 4,
 "nbformat_minor": 5
}
