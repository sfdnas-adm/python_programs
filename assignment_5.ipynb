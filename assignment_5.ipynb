{
 "cells": [
  {
   "cell_type": "code",
   "execution_count": 14,
   "id": "476dd4b2",
   "metadata": {},
   "outputs": [],
   "source": [
    "#Write a function to compute 5/0 and use try/except to catch the exceptions.\n",
    "\n",
    "def try_except():\n",
    "    try:\n",
    "        x = 5/0\n",
    "    except Exception as e:\n",
    "        print ('exception occured',e)"
   ]
  },
  {
   "cell_type": "code",
   "execution_count": 15,
   "id": "eff64261",
   "metadata": {},
   "outputs": [
    {
     "name": "stdout",
     "output_type": "stream",
     "text": [
      "exception occured division by zero\n"
     ]
    }
   ],
   "source": [
    "try_except()"
   ]
  },
  {
   "cell_type": "code",
   "execution_count": 21,
   "id": "37cb46a2",
   "metadata": {},
   "outputs": [],
   "source": [
    "#2. Implement a Python program to generate all sentences where subject is in  [\"Americans\", \"Indians\"] and verb is in [\"Play\", \"watch\"] and the object is in [\"Baseball\",\"cricket\"].\n",
    "\n",
    "def sent_gen(subject, verb, objects):\n",
    "    try:\n",
    "        for word in subject:\n",
    "            for v in verb:\n",
    "                for obj in objects:\n",
    "                    stri = str(word) + \" \" + str(v) + \" \" + str(obj)\n",
    "                    print(stri)\n",
    "    except:\n",
    "        pass"
   ]
  },
  {
   "cell_type": "code",
   "execution_count": 22,
   "id": "9de9e456",
   "metadata": {},
   "outputs": [
    {
     "name": "stdout",
     "output_type": "stream",
     "text": [
      "americans play baseball\n",
      "americans play cricket\n",
      "americans watch baseball\n",
      "americans watch cricket\n",
      "Indians play baseball\n",
      "Indians play cricket\n",
      "Indians watch baseball\n",
      "Indians watch cricket\n"
     ]
    }
   ],
   "source": [
    "subject = ['americans','Indians']\n",
    "verb = ['play','watch']\n",
    "objects = ['baseball', 'cricket']\n",
    "sent_gen(subject,verb,objects)"
   ]
  },
  {
   "cell_type": "code",
   "execution_count": null,
   "id": "1bfa41aa",
   "metadata": {},
   "outputs": [],
   "source": []
  }
 ],
 "metadata": {
  "kernelspec": {
   "display_name": "Python 3 (ipykernel)",
   "language": "python",
   "name": "python3"
  },
  "language_info": {
   "codemirror_mode": {
    "name": "ipython",
    "version": 3
   },
   "file_extension": ".py",
   "mimetype": "text/x-python",
   "name": "python",
   "nbconvert_exporter": "python",
   "pygments_lexer": "ipython3",
   "version": "3.9.7"
  }
 },
 "nbformat": 4,
 "nbformat_minor": 5
}
